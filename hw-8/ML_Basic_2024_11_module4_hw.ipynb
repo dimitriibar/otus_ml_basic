{
    "cells": [
        {
            "cell_type": "markdown",
            "metadata": {},
            "source": [
                "## Модуль 4. Теоретический минимум для ML: линейная алгебра, начала мат.анализа и оптимизации."
            ]
        },
        {
            "cell_type": "markdown",
            "metadata": {},
            "source": [
                "### 1. Линейная алгебра"
            ]
        },
        {
            "cell_type": "markdown",
            "metadata": {},
            "source": [
                "1. Даны матрицы:\n",
                "\n",
                "$$A = \\begin{pmatrix}\n",
                "2 & -4 \\\\\n",
                "3 & 5 \\\\\n",
                "-1 & 0\n",
                "\\end{pmatrix}, \\quad\n",
                "B = \\begin{pmatrix}\n",
                "1 & 2 & 7 \\\\\n",
                "-3 & -4 & 0 \\\\\n",
                "5 & 2 & 1\n",
                "\\end{pmatrix}, \\quad\n",
                "C = \\begin{pmatrix}\n",
                "6 & -3 & 9 \\\\\n",
                "4 & -5 & 2 \\\\\n",
                "8 & 1 & 5\n",
                "\\end{pmatrix}.$$\n",
                "\n",
                "Посчитайте матрицу $D = A^{\\top} C - 2 A^{\\top} B^{\\top}$. Приведите полную последовательность вычислений."
            ]
        },
        {
            "cell_type": "code",
            "execution_count": 2,
            "metadata": {},
            "outputs": [
                {
                    "name": "stdout",
                    "output_type": "stream",
                    "text": [
                        "\n"
                    ]
                },
                {
                    "data": {
                        "text/latex": [
                            "$\\displaystyle A^{T} = \\left[\\begin{matrix}2 & 3 & -1\\\\-4 & 5 & 0\\end{matrix}\\right]$"
                        ],
                        "text/plain": [
                            "       ⎡2   3  -1⎤\n",
                            "A__T = ⎢         ⎥\n",
                            "       ⎣-4  5  0 ⎦"
                        ]
                    },
                    "metadata": {},
                    "output_type": "display_data"
                },
                {
                    "data": {
                        "text/latex": [
                            "$\\displaystyle B^{T} = \\left[\\begin{matrix}1 & -3 & 5\\\\2 & -4 & 2\\\\7 & 0 & 1\\end{matrix}\\right]$"
                        ],
                        "text/plain": [
                            "       ⎡1  -3  5⎤\n",
                            "       ⎢        ⎥\n",
                            "B__T = ⎢2  -4  2⎥\n",
                            "       ⎢        ⎥\n",
                            "       ⎣7  0   1⎦"
                        ]
                    },
                    "metadata": {},
                    "output_type": "display_data"
                },
                {
                    "data": {
                        "text/latex": [
                            "$\\displaystyle C A^{T} = \\left[\\begin{matrix}16 & -22 & 19\\\\-4 & -13 & -26\\end{matrix}\\right]$"
                        ],
                        "text/plain": [
                            "         ⎡16  -22  19 ⎤\n",
                            "C⋅A__T = ⎢            ⎥\n",
                            "         ⎣-4  -13  -26⎦"
                        ]
                    },
                    "metadata": {},
                    "output_type": "display_data"
                },
                {
                    "data": {
                        "text/latex": [
                            "$\\displaystyle 2 A^{T} B^{T} = \\left[\\begin{matrix}1 & -18 & 15\\\\6 & -8 & -10\\end{matrix}\\right]$"
                        ],
                        "text/plain": [
                            "              ⎡1  -18  15 ⎤\n",
                            "2⋅A__T⋅B__T = ⎢           ⎥\n",
                            "              ⎣6  -8   -10⎦"
                        ]
                    },
                    "metadata": {},
                    "output_type": "display_data"
                },
                {
                    "data": {
                        "text/latex": [
                            "$\\displaystyle D = \\left[\\begin{matrix}15 & -4 & 4\\\\-10 & -5 & -16\\end{matrix}\\right]$"
                        ],
                        "text/plain": [
                            "    ⎡15   -4   4 ⎤\n",
                            "D = ⎢            ⎥\n",
                            "    ⎣-10  -5  -16⎦"
                        ]
                    },
                    "metadata": {},
                    "output_type": "display_data"
                }
            ],
            "source": [
                "import numpy as np\n",
                "import sympy as sp\n",
                "from IPython.display import display, Markdown\n",
                "\n",
                "sp.init_session(quiet=True)\n",
                "\n",
                "# Определение матриц\n",
                "A = np.array([[2, -4], [3, 5], [-1, 0]])\n",
                "B = np.array([[1, 2, 7], [-3, -4, 0], [5, 2, 1]])\n",
                "C = np.array([[6, -3, 9], [4, -5, 2], [8, 1, 5]])\n",
                "\n",
                "# Транспонирование A\n",
                "At = sp.MatrixSymbol(\"A^T\", 2, 3)\n",
                "display(sp.Eq(At, sp.Matrix(A).transpose(), evaluate=False))\n",
                "\n",
                "\n",
                "# Транспонирование B\n",
                "Bt = sp.MatrixSymbol(\"B^T\", 3, 3)\n",
                "display(sp.Eq(Bt, sp.Matrix(B).transpose(), evaluate=False))\n",
                "\n",
                "# Вычисление A^T * C\n",
                "C_s = sp.Symbol(\"C\")\n",
                "A_T_C = sp.Matrix(A).transpose() * sp.Matrix(C)\n",
                "display(sp.Eq(At * C_s, A_T_C, evaluate=False))\n",
                "\n",
                "# Вычисление 2 * A^T * B^T\n",
                "two_A_T_B_T = sp.Matrix(A).transpose() * sp.Matrix(B).transpose()\n",
                "\n",
                "display(sp.Eq(2 * At * Bt, two_A_T_B_T, evaluate=False))\n",
                "\n",
                "# Вычисление D = A^T * C - 2 * A^T * B^T\n",
                "D_s = sp.MatrixSymbol(\"D\", 2, 3)\n",
                "display(sp.Eq(D_s, A_T_C - two_A_T_B_T, evaluate=False))"
            ]
        },
        {
            "cell_type": "markdown",
            "metadata": {},
            "source": [
                "#### 2. Дано выражение:\n",
                "\n",
                "$$3 \\cdot \\begin{pmatrix}\n",
                "x & 2 & 3 \\\\\n",
                "-1 & y & 4\n",
                "\\end{pmatrix} + 2 \\cdot \\begin{pmatrix}\n",
                "1 & 2 & -5 \\\\\n",
                "2 & -6 & z\n",
                "\\end{pmatrix} = \\begin{pmatrix}\n",
                "8 & v & -1 \\\\\n",
                "1 & 6 & 4\n",
                "\\end{pmatrix}.$$\n",
                "\n",
                "Найдите значения $x, y, z$ и $v$, при которых выражение верно.\n",
                "\n",
                "#### Начало решения тут потому что быстрее сложить матрицы в уме чем мучаться в sympy\n",
                "\n",
                "Действие №1\n",
                "\n",
                "$$\\begin{pmatrix}\n",
                "3x & 6 & 9 \\\\\n",
                "-3 & 3y & 12\n",
                "\\end{pmatrix} + \\begin{pmatrix}\n",
                "2 & 4 & -10 \\\\\n",
                "4 & -12 & 2z\n",
                "\\end{pmatrix} = \\begin{pmatrix}\n",
                "8 & v & -1 \\\\\n",
                "1 & 6 & 4\n",
                "\\end{pmatrix}.$$\n",
                "\n",
                "Действие №2\n",
                "\n",
                "$$\\begin{pmatrix}\n",
                "3x+2 & 10 & -1 \\\\\n",
                "1 & 3y-12 & 12+2z\n",
                "\\end{pmatrix} = \\begin{pmatrix}\n",
                "8 & v & -1 \\\\\n",
                "1 & 6 & 4\n",
                "\\end{pmatrix}.$$"
            ]
        },
        {
            "cell_type": "code",
            "execution_count": 19,
            "metadata": {},
            "outputs": [
                {
                    "name": "stdout",
                    "output_type": "stream",
                    "text": [
                        "x = 2\n",
                        "v = 10\n",
                        "y = 6\n",
                        "z = -4\n"
                    ]
                },
                {
                    "data": {
                        "text/markdown": [
                            "Левая часть: $\\left[\\begin{smallmatrix}8 & 10 & -1\\\\1 & 6 & 4\\end{smallmatrix}\\right]$"
                        ],
                        "text/plain": [
                            "<IPython.core.display.Markdown object>"
                        ]
                    },
                    "metadata": {},
                    "output_type": "display_data"
                },
                {
                    "data": {
                        "text/markdown": [
                            "Правая часть: $\\left[\\begin{smallmatrix}8 & 10 & -1\\\\1 & 6 & 4\\end{smallmatrix}\\right]$"
                        ],
                        "text/plain": [
                            "<IPython.core.display.Markdown object>"
                        ]
                    },
                    "metadata": {},
                    "output_type": "display_data"
                },
                {
                    "name": "stdout",
                    "output_type": "stream",
                    "text": [
                        "Равенство выполняется: True\n"
                    ]
                }
            ],
            "source": [
                "# Для каждого элемента матрицы составим уравнение\n",
                "\n",
                "# Для элемента (1,1):\n",
                "# 3x + 2 = 8\n",
                "# 3x = 6\n",
                "# x = 2\n",
                "x = 2\n",
                "print(f\"x = {x}\")\n",
                "\n",
                "# Для элемента (1,2):\n",
                "# v = 10\n",
                "v = 10\n",
                "print(f\"v = {v}\")\n",
                "\n",
                "# Для элемента (1,3):\n",
                "# -1 = -1 (верно)\n",
                "\n",
                "# Для элемента (2,1):\n",
                "# 1 = 1 (верно)\n",
                "\n",
                "# Для элемента (2,2):\n",
                "# 3y - 12 = 6\n",
                "# 3y = 18\n",
                "# y = 6\n",
                "y = 6\n",
                "print(f\"y = {y}\")\n",
                "\n",
                "# Для элемента (2,3):\n",
                "# 12 + 2z = 4\n",
                "# 2z = -8\n",
                "# z = -4\n",
                "z = -4\n",
                "print(f\"z = {z}\")\n",
                "\n",
                "# Проверка\n",
                "left_side = 3 * np.array([[x, 2, 3], [-1, y, 4]]) + 2 * np.array([[1, 2, -5], [2, -6, z]])\n",
                "right_side = np.array([[8, v, -1], [1, 6, 4]])\n",
                "display(\n",
                "    Markdown(\n",
                "        \"Левая часть: {}\".format(\n",
                "            sp.latex(sp.Matrix(left_side), mode=\"inline\"),\n",
                "        )\n",
                "    )\n",
                ")\n",
                "\n",
                "display(\n",
                "    Markdown(\n",
                "        \"Правая часть: {}\".format(\n",
                "            sp.latex(sp.Matrix(right_side), mode=\"inline\"),\n",
                "        )\n",
                "    )\n",
                ")\n",
                "\n",
                "print(\"Равенство выполняется:\", np.array_equal(left_side, right_side))"
            ]
        },
        {
            "cell_type": "markdown",
            "metadata": {},
            "source": [
                "#### 3. Относительно канонического (стандартного) базиса в $\\mathbb{R}^2$ даны три вектора $\\mathbf{a}_1 = (2, -5)^{\\top}$, $\\mathbf{a}_2 = (-1, 3)^{\\top}$, и $\\mathbf{x} = (1, -4)^{\\top}$. Примите векторы $\\mathbf{a}_1$, $\\mathbf{a}_2$ за новый базис $B$, предварительно проверив, что они линейно независимы.\n",
                "\n",
                "(a) Найдите координаты $[\\mathbf{x}]_B$ вектора $\\mathbf{x}$ в новом базисе.\n",
                "(b) Предположим, что координаты вектора $\\mathbf{y}$ в базисе $B$ заданы $[\\mathbf{y}]_B = (1, 1)^T$. Найдите координаты вектора $\\mathbf{y}$ в стандартном базисе."
            ]
        },
        {
            "cell_type": "code",
            "execution_count": null,
            "metadata": {},
            "outputs": [
                {
                    "name": "stdout",
                    "output_type": "stream",
                    "text": [
                        "Определитель матрицы A = 1\n"
                    ]
                },
                {
                    "data": {
                        "text/markdown": [
                            "Векторы $a_{1}$ и $a_{2}$ линейно независимы"
                        ],
                        "text/plain": [
                            "<IPython.core.display.Markdown object>"
                        ]
                    },
                    "metadata": {},
                    "output_type": "display_data"
                },
                {
                    "name": "stdout",
                    "output_type": "stream",
                    "text": [
                        "Координаты вектора x в базисе B: [x]_B = [-1. -3.]\n",
                        "Проверка: x = 0*a1 + -2*a2 = [ 1. -4.]\n",
                        "Исходный вектор x = [ 1 -4]\n",
                        "Равенство выполняется: True\n",
                        "Координаты вектора y в стандартном базисе: y = [ 1 -2]\n"
                    ]
                }
            ],
            "source": [
                "# Определение векторов\n",
                "a1 = np.array([2, -5])\n",
                "a2 = np.array([-1, 3])\n",
                "x = np.array([1, -4])\n",
                "\n",
                "a_1, a_2, x_s, B_s, X_b = sp.symbols('a_1 a_2 x B [x]_B')\n",
                "\n",
                "# Проверка линейной независимости векторов a1 и a2\n",
                "# Векторы линейно независимы, если их определитель не равен нулю\n",
                "A = np.column_stack((a1, a2))\n",
                "det_A = sp.Matrix(A).det()\n",
                "print(f\"Определитель матрицы A = {det_A}\")\n",
                "display(\n",
                "    Markdown(\n",
                "        \"Векторы {} и {} линейно {}\".format(\n",
                "            sp.latex(a_1, mode=\"inline\"),\n",
                "            sp.latex(a_2, mode=\"inline\"),\n",
                "            'независимы' if det_A != 0 else 'зависимы'\n",
                "        )\n",
                "    )\n",
                ")\n",
                "\n",
                "# (a) Найдем координаты вектора x в новом базисе B\n",
                "# Решаем систему уравнений: x = c1*a1 + c2*a2\n",
                "# Где c1 и c2 - координаты вектора x в базисе B\n",
                "c = np.linalg.solve(A, x)\n",
                "print(f\"Координаты вектора x в базисе B: [x]_B = {c}\")\n",
                "\n",
                "# Проверка\n",
                "x_reconstructed = c[0] * a1 + c[1] * a2\n",
                "print(f\"Проверка: x = {int(c[0])}*a1 + {int(c[1])}*a2 = {x_reconstructed}\")\n",
                "print(f\"Исходный вектор x = {x}\")\n",
                "print(f\"Равенство выполняется: {np.allclose(x, x_reconstructed)}\")\n",
                "\n",
                "# (b) Найдем координаты вектора y в стандартном базисе\n",
                "# Даны координаты вектора y в базисе B: [y]_B = (1, 1)^T\n",
                "y_B = np.array([1, 1])\n",
                "\n",
                "# Координаты вектора y в стандартном базисе: y = [y]_B[0] * a1 + [y]_B[1] * a2\n",
                "y = y_B[0] * a1 + y_B[1] * a2\n",
                "print(f\"Координаты вектора y в стандартном базисе: y = {y}\")"
            ]
        },
        {
            "cell_type": "markdown",
            "metadata": {},
            "source": [
                "#### 4. Исследовательское задание: малоранговая аппроксимация матрицы. \n",
                "\n",
                "Сгенерируйте случайную квадратную матрицу $A \\in \\mathbb{R}^{n \\times n}$, $n \\geq 100$. Выполните сингулярное разложение этой матрицы, и получите три матрицы: $U, S, V^{\\top}$. Выполняйте аппроксимацию матрицы $A$ с рангом $r$, меняя его значение, например, от $2$ до $n$:\n",
                "\n",
                "$$\\tilde{A} = U[:, :r] S[:r, :r] V^{\\top}[:r, :],$$\n",
                "\n",
                "и каждый раз считайте ошибку апроксимации (как восстановленная матрица отличается от исходной):\n",
                "\n",
                "$$E(r) = \\|A - \\tilde{A}\\|_F = \\sqrt{\\sum_{i=1}^{n} \\sum_{j=1}^{n} (a_{ij} - \\tilde{a}_{ij})^2}.$$\n",
                "\n",
                "Используя библиотеку matplotlib, постройте график зависимости ошибки аппроксимации матрицы от ранга $r$."
            ]
        },
        {
            "cell_type": "code",
            "execution_count": 5,
            "metadata": {},
            "outputs": [
                {
                    "name": "stdout",
                    "output_type": "stream",
                    "text": [
                        "Ошибка полного SVD разложения: 8.753305533374045e-14\n",
                        "Ранг 1: ошибка = 28.5251\n"
                    ]
                },
                {
                    "data": {
                        "image/png": "[encoded data removed]",
                        "text/plain": [
                            "<Figure size 1000x600 with 1 Axes>"
                        ]
                    },
                    "metadata": {},
                    "output_type": "display_data"
                }
            ],
            "source": [
                "import numpy as np\n",
                "import matplotlib.pyplot as plt\n",
                "from numpy.linalg import norm\n",
                "\n",
                "# Размер матрицы\n",
                "n = 100\n",
                "\n",
                "# Генерация случайной матрицы\n",
                "np.random.seed(42)  # для воспроизводимости результатов\n",
                "A = np.random.rand(n, n)\n",
                "\n",
                "# Сингулярное разложение матрицы A\n",
                "U, S, Vt = np.linalg.svd(A, full_matrices=True)\n",
                "\n",
                "# Создаем диагональную матрицу S из вектора сингулярных значений\n",
                "S_matrix = np.zeros((n, n))\n",
                "np.fill_diagonal(S_matrix, S)\n",
                "\n",
                "# Проверка корректности разложения\n",
                "A_reconstructed = U @ S_matrix @ Vt\n",
                "print(f\"Ошибка полного SVD разложения: {norm(A - A_reconstructed, 'fro')}\")\n",
                "\n",
                "# Вычисление ошибки аппроксимации для разных значений ранга r\n",
                "ranks = range(1, n + 1, 5)  # Берем каждый 5-й ранг для ускорения вычислений\n",
                "errors = []\n",
                "\n",
                "for r in ranks:\n",
                "    # Аппроксимация матрицы A с рангом r\n",
                "    A_approx = U[:, :r] @ S_matrix[:r, :r] @ Vt[:r, :]\n",
                "\n",
                "    # Вычисление ошибки аппроксимации (норма Фробениуса разности матриц)\n",
                "    error = norm(A - A_approx, \"fro\")\n",
                "    errors.append(error)\n",
                "\n",
                "    # Вывод информации о прогрессе\n",
                "    if r % 10 == 0 or r == 1:\n",
                "        print(f\"Ранг {r}: ошибка = {error:.4f}\")\n",
                "\n",
                "# Построение графика зависимости ошибки аппроксимации от ранга\n",
                "plt.figure(figsize=(10, 6))\n",
                "plt.plot(ranks, errors, \"o-\", markersize=4)\n",
                "plt.title(\"Зависимость ошибки аппроксимации от ранга\")\n",
                "plt.xlabel(\"Ранг (r)\")\n",
                "plt.ylabel(\"Ошибка аппроксимации (норма Фробениуса)\")\n",
                "plt.grid(True)\n",
                "plt.show()"
            ]
        },
        {
            "cell_type": "markdown",
            "metadata": {},
            "source": [
                "## 2. Начала мат.анализа и оптимизации"
            ]
        },
        {
            "cell_type": "markdown",
            "metadata": {},
            "source": [
                "#### 1. Посчитайте градиент следующей функции:\n",
                "\n",
                "$$f(\\mathbf{x}) = x_1^3 - 2x_1 x_2 + x_2^2 - 3x_1 - 2x_2, \\quad \\mathbf{x} \\in \\mathbb{R}^2.$$\n",
                "\n",
                "Найдите критические точки $\\mathbf{x}_c$, такие что $\\nabla f(\\mathbf{x}_c) = 0$."
            ]
        },
        {
            "cell_type": "code",
            "execution_count": 6,
            "metadata": {},
            "outputs": [
                {
                    "data": {
                        "text/markdown": [
                            "Частная производная по x1 = $3 x_{1}^{2} - 2 x_{2} - 3$"
                        ],
                        "text/plain": [
                            "<IPython.core.display.Markdown object>"
                        ]
                    },
                    "metadata": {},
                    "output_type": "display_data"
                },
                {
                    "data": {
                        "text/markdown": [
                            "Частная производная по x2 =  $- 2 x_{1} + 2 x_{2} - 2$"
                        ],
                        "text/plain": [
                            "<IPython.core.display.Markdown object>"
                        ]
                    },
                    "metadata": {},
                    "output_type": "display_data"
                },
                {
                    "data": {
                        "text/markdown": [
                            "Градиент функции ∇f(x) = $\\left( 3 x_{1}^{2} - 2 x_{2} - 3, \\  - 2 x_{1} + 2 x_{2} - 2\\right)$"
                        ],
                        "text/plain": [
                            "<IPython.core.display.Markdown object>"
                        ]
                    },
                    "metadata": {},
                    "output_type": "display_data"
                },
                {
                    "data": {
                        "text/markdown": [
                            "Критические точки : $\\left[ \\left( -1, \\  0\\right), \\  \\left( 5 / 3, \\  8 / 3\\right)\\right]$"
                        ],
                        "text/plain": [
                            "<IPython.core.display.Markdown object>"
                        ]
                    },
                    "metadata": {},
                    "output_type": "display_data"
                },
                {
                    "name": "stdout",
                    "output_type": "stream",
                    "text": [
                        "______________________________________\n"
                    ]
                },
                {
                    "data": {
                        "text/markdown": [
                            "Точка 1: $-1$, $0$"
                        ],
                        "text/plain": [
                            "<IPython.core.display.Markdown object>"
                        ]
                    },
                    "metadata": {},
                    "output_type": "display_data"
                },
                {
                    "data": {
                        "text/markdown": [
                            "Значение градиента: [$0$ , $0$]"
                        ],
                        "text/plain": [
                            "<IPython.core.display.Markdown object>"
                        ]
                    },
                    "metadata": {},
                    "output_type": "display_data"
                },
                {
                    "name": "stdout",
                    "output_type": "stream",
                    "text": [
                        "______________________________________\n"
                    ]
                },
                {
                    "data": {
                        "text/markdown": [
                            "Точка 2: $5 / 3$, $8 / 3$"
                        ],
                        "text/plain": [
                            "<IPython.core.display.Markdown object>"
                        ]
                    },
                    "metadata": {},
                    "output_type": "display_data"
                },
                {
                    "data": {
                        "text/markdown": [
                            "Значение градиента: [$0$ , $0$]"
                        ],
                        "text/plain": [
                            "<IPython.core.display.Markdown object>"
                        ]
                    },
                    "metadata": {},
                    "output_type": "display_data"
                },
                {
                    "name": "stdout",
                    "output_type": "stream",
                    "text": [
                        "______________________________________\n"
                    ]
                }
            ],
            "source": [
                "# Определение символьных переменных\n",
                "x1, x2, f= sp.symbols('x1 x2 f')\n",
                "\n",
                "# Определение функции\n",
                "f = x1**3 - 2*x1*x2 + x2**2 - 3*x1 - 2*x2\n",
                "\n",
                "# Вычисление частных производных\n",
                "df_dx1 = sp.diff(f, x1)\n",
                "df_dx2 = sp.diff(f, x2)\n",
                "\n",
                "display(Markdown('Частная производная по x1 = {}'.format(sp.latex(df_dx1, mode='inline'))))\n",
                "display(Markdown('Частная производная по x2 =  {}'.format(sp.latex(df_dx2, mode='inline'))))\n",
                "\n",
                "\n",
                "# Градиент функции\n",
                "grad_f=(df_dx1, df_dx2)\n",
                "display(Markdown('Градиент функции ∇f(x) = {}'.format(sp.latex(grad_f, mode='inline'))))\n",
                "\n",
                "# Нахождение критических точек\n",
                "# Решаем систему уравнений: ∇f(x) = 0\n",
                "critical_points = sp.solve([df_dx1, df_dx2], [x1, x2])\n",
                "display(Markdown('Критические точки : {}'.format(sp.latex(critical_points, mode='inline'))))\n",
                "\n",
                "# Проверка критических точек\n",
                "\n",
                "print(\"______________________________________\")\n",
                "for i, point in enumerate(critical_points):\n",
                "    x1_val, x2_val = point\n",
                "    grad_val = [df_dx1.subs({x1: x1_val, x2: x2_val}), df_dx2.subs({x1: x1_val, x2: x2_val})]\n",
                "    display(Markdown('Точка {}: {}, {}'.format(i+1,sp.latex(x1_val, mode='inline'),sp.latex(x2_val, mode='inline'))))\n",
                "    display(Markdown('Значение градиента: [{} , {}]'.format(sp.latex(grad_val[0], mode='inline'),sp.latex(grad_val[1], mode='inline'))))\n",
                "    print(\"______________________________________\")"
            ]
        },
        {
            "cell_type": "markdown",
            "metadata": {},
            "source": [
                "### 2. Проверьте, что функция $f = \\ln(\\sqrt{x_1} + \\sqrt{x_2})$ удовлетворяет уравнению:\n",
                "\n",
                "$$x_1 \\frac{\\partial f}{\\partial x_1} + x_2 \\frac{\\partial f}{\\partial x_2} = \\frac{1}{2}.$$"
            ]
        },
        {
            "cell_type": "code",
            "execution_count": 7,
            "metadata": {},
            "outputs": [
                {
                    "data": {
                        "text/markdown": [
                            "Функция: f = $\\log{\\left(\\sqrt{x_{1}} + \\sqrt{x_{2}} \\right)}$"
                        ],
                        "text/plain": [
                            "<IPython.core.display.Markdown object>"
                        ]
                    },
                    "metadata": {},
                    "output_type": "display_data"
                },
                {
                    "data": {
                        "text/markdown": [
                            "Частная производная по   $x_{1}$: $df / dx_{1}$ = $\\frac{1}{2 \\sqrt{x_{1}} \\left(\\sqrt{x_{1}} + \\sqrt{x_{2}}\\right)}$"
                        ],
                        "text/plain": [
                            "<IPython.core.display.Markdown object>"
                        ]
                    },
                    "metadata": {},
                    "output_type": "display_data"
                },
                {
                    "data": {
                        "text/markdown": [
                            "Частная производная по   $x_{2}$: $df / dx_{2}$ = $\\frac{1}{2 \\sqrt{x_{2}} \\left(\\sqrt{x_{1}} + \\sqrt{x_{2}}\\right)}$"
                        ],
                        "text/plain": [
                            "<IPython.core.display.Markdown object>"
                        ]
                    },
                    "metadata": {},
                    "output_type": "display_data"
                },
                {
                    "data": {
                        "text/markdown": [
                            "Левая часть уравнения: $x_{1}$ * $df / dx_{1}$ + $x_{2}$ * $df / dx_{2}$ = $\\frac{\\sqrt{x_{1}}}{2 \\left(\\sqrt{x_{1}} + \\sqrt{x_{2}}\\right)} + \\frac{\\sqrt{x_{2}}}{2 \\left(\\sqrt{x_{1}} + \\sqrt{x_{2}}\\right)}$"
                        ],
                        "text/plain": [
                            "<IPython.core.display.Markdown object>"
                        ]
                    },
                    "metadata": {},
                    "output_type": "display_data"
                },
                {
                    "name": "stdout",
                    "output_type": "stream",
                    "text": [
                        "Упрощенная левая часть: 1/2\n",
                        "Проверка равенства: 1/2 = 1/2 ? True\n"
                    ]
                }
            ],
            "source": [
                "# Определение символьных переменных\n",
                "x1, x2, dx1, dx2, df = sp.symbols(\"x_1 x_2 dx_1 dx_2 df\", positive=True)  # Предполагаем, что x1 и x2 положительны\n",
                "\n",
                "# Определение функции\n",
                "f = sp.log(sp.sqrt(x1) + sp.sqrt(x2))\n",
                "\n",
                "# Вычисление частных производных\n",
                "df_dx1 = sp.diff(f, x1)\n",
                "df_dx2 = sp.diff(f, x2)\n",
                "\n",
                "display(Markdown(\"Функция: f = {}\".format(sp.latex(f, mode=\"inline\"))))\n",
                "display(\n",
                "    Markdown(\n",
                "        \"Частная производная по   {}: {} = {}\".format(\n",
                "            sp.latex(x1, mode=\"inline\"), sp.latex(df / dx1, mode=\"inline\"), sp.latex(df_dx1, mode=\"inline\")\n",
                "        )\n",
                "    )\n",
                ")\n",
                "display(\n",
                "    Markdown(\n",
                "        \"Частная производная по   {}: {} = {}\".format(\n",
                "            sp.latex(x2, mode=\"inline\"), sp.latex(df / dx2, mode=\"inline\"), sp.latex(df_dx2, mode=\"inline\")\n",
                "        )\n",
                "    )\n",
                ")\n",
                "\n",
                "# Вычисление левой части уравнения\n",
                "left_side = x1 * df_dx1 + x2 * df_dx2\n",
                "display(\n",
                "    Markdown(\n",
                "        \"Левая часть уравнения: {} * {} + {} * {} = {}\".format(\n",
                "            sp.latex(x1, mode=\"inline\"),\n",
                "            sp.latex(df / dx1, mode=\"inline\"),\n",
                "            sp.latex(x2, mode=\"inline\"),\n",
                "            sp.latex(df / dx2, mode=\"inline\"),\n",
                "            sp.latex(left_side, mode=\"inline\"),\n",
                "        )\n",
                "    )\n",
                ")\n",
                "\n",
                "# Упрощение выражения\n",
                "left_side_simplified = sp.simplify(left_side)\n",
                "print(f\"Упрощенная левая часть: {left_side_simplified}\")\n",
                "\n",
                "# Проверка равенства\n",
                "right_side = sp.Rational(1, 2)  # 1/2\n",
                "is_equal = sp.simplify(left_side - right_side) == 0\n",
                "print(f\"Проверка равенства: {left_side_simplified} = {right_side} ? {is_equal}\")"
            ]
        },
        {
            "cell_type": "markdown",
            "metadata": {},
            "source": [
                "### 3. Предположим, задана функция $f: \\mathbb{R}^3 \\to \\mathbb{R}$:\n",
                "\n",
                "$$f(x, y, z) = x + y + z + (xyz)^2.$$\n",
                "\n",
                "Найдите вектор градиента функции $f$, и его численное значение в точке $\\mathbf{v} = (1, 2, 3)^{\\top}$."
            ]
        },
        {
            "cell_type": "code",
            "execution_count": 8,
            "metadata": {},
            "outputs": [
                {
                    "data": {
                        "text/markdown": [
                            "Функция: f(x, y, z) = $x^{2} y^{2} z^{2} + x + y + z$"
                        ],
                        "text/plain": [
                            "<IPython.core.display.Markdown object>"
                        ]
                    },
                    "metadata": {},
                    "output_type": "display_data"
                },
                {
                    "data": {
                        "text/markdown": [
                            "Частная производная по x: $df / dx$ = $2 x y^{2} z^{2} + 1$"
                        ],
                        "text/plain": [
                            "<IPython.core.display.Markdown object>"
                        ]
                    },
                    "metadata": {},
                    "output_type": "display_data"
                },
                {
                    "data": {
                        "text/markdown": [
                            "Частная производная по y: $df / dy$ = $2 x^{2} y z^{2} + 1$"
                        ],
                        "text/plain": [
                            "<IPython.core.display.Markdown object>"
                        ]
                    },
                    "metadata": {},
                    "output_type": "display_data"
                },
                {
                    "data": {
                        "text/markdown": [
                            "Частная производная по z: $df / dz$ = $2 x^{2} y^{2} z + 1$"
                        ],
                        "text/plain": [
                            "<IPython.core.display.Markdown object>"
                        ]
                    },
                    "metadata": {},
                    "output_type": "display_data"
                },
                {
                    "data": {
                        "text/markdown": [
                            "Градиент функции: ∇f(x, y, z) = $\\left[ 2 x y^{2} z^{2} + 1, \\  2 x^{2} y z^{2} + 1, \\  2 x^{2} y^{2} z + 1\\right]$"
                        ],
                        "text/plain": [
                            "<IPython.core.display.Markdown object>"
                        ]
                    },
                    "metadata": {},
                    "output_type": "display_data"
                },
                {
                    "data": {
                        "text/markdown": [
                            "Численное значение градиента в точке v = $\\left( 1, \\  2, \\  3\\right)$   ∇f(v) = $\\left[ 73.0, \\  37.0, \\  25.0\\right]$"
                        ],
                        "text/plain": [
                            "<IPython.core.display.Markdown object>"
                        ]
                    },
                    "metadata": {},
                    "output_type": "display_data"
                }
            ],
            "source": [
                "# Определение символьных переменных\n",
                "x, y, z, dx, dy, dz = sp.symbols(\"x y z dx dy dz\")\n",
                "\n",
                "# Определение функции\n",
                "f = x + y + z + (x * y * z) ** 2\n",
                "display(\n",
                "    Markdown(\n",
                "        \"Функция: f(x, y, z) = {}\".format(\n",
                "            sp.latex(f, mode=\"inline\"),\n",
                "        )\n",
                "    )\n",
                ")\n",
                "\n",
                "# Вычисление частных производных\n",
                "df_dx = sp.diff(f, x)\n",
                "df_dy = sp.diff(f, y)\n",
                "df_dz = sp.diff(f, z)\n",
                "\n",
                "display(\n",
                "    Markdown(\n",
                "        \"Частная производная по x: {} = {}\".format(\n",
                "            sp.latex(df / dx, mode=\"inline\"),\n",
                "            sp.latex(df_dx, mode=\"inline\"),\n",
                "        )\n",
                "    )\n",
                ")\n",
                "display(\n",
                "    Markdown(\n",
                "        \"Частная производная по y: {} = {}\".format(\n",
                "            sp.latex(df / dy, mode=\"inline\"),\n",
                "            sp.latex(df_dy, mode=\"inline\"),\n",
                "        )\n",
                "    )\n",
                ")\n",
                "display(\n",
                "    Markdown(\n",
                "        \"Частная производная по z: {} = {}\".format(\n",
                "            sp.latex(df / dz, mode=\"inline\"),\n",
                "            sp.latex(df_dz, mode=\"inline\"),\n",
                "        )\n",
                "    )\n",
                ")\n",
                "\n",
                "\n",
                "\n",
                "\n",
                "# Градиент функции\n",
                "\n",
                "grad_f = [df_dx, df_dy, df_dz]\n",
                "display(\n",
                "    Markdown(\n",
                "        \"Градиент функции: ∇f(x, y, z) = {}\".format(\n",
                "            sp.latex(grad_f, mode=\"inline\"),\n",
                "        )\n",
                "    )\n",
                ")\n",
                "\n",
                "\n",
                "# Вычисление численного значения градиента в точке v = (1, 2, 3)\n",
                "v = (1, 2, 3)\n",
                "grad_f_v = [float(expr.subs({x: v[0], y: v[1], z: v[2]})) for expr in grad_f]\n",
                "\n",
                "\n",
                "display(\n",
                "    Markdown(\n",
                "        \"Численное значение градиента в точке v = {}   ∇f(v) = {}\".format(\n",
                "            sp.latex(v, mode=\"inline\"),\n",
                "            sp.latex(grad_f_v, mode=\"inline\"),\n",
                "        )\n",
                "    )\n",
                ")\n"
            ]
        },
        {
            "cell_type": "markdown",
            "metadata": {},
            "source": [
                "### 4. (Куб Евклидовой нормы). Найти первый дифференциал $df(\\mathbf{x})$, а также градиент $\\nabla f(\\mathbf{x})$ функции:\n",
                "\n",
                "$$f(\\mathbf{x}) = \\frac{1}{3} \\|\\mathbf{x}\\|_2^3, \\quad \\mathbf{x} \\in \\mathbb{R}^n \\setminus \\{0\\}.$$"
            ]
        },
        {
            "cell_type": "code",
            "execution_count": 11,
            "metadata": {},
            "outputs": [
                {
                    "data": {
                        "text/markdown": [
                            "Функция: f(x) =  $\\left(x_{1}^{2} + x_{2}^{2} + x_{3}^{2}\\right)^{3 / 2} / 3$"
                        ],
                        "text/plain": [
                            "<IPython.core.display.Markdown object>"
                        ]
                    },
                    "metadata": {},
                    "output_type": "display_data"
                },
                {
                    "name": "stdout",
                    "output_type": "stream",
                    "text": [
                        "Градиент функции:\n"
                    ]
                },
                {
                    "data": {
                        "text/markdown": [
                            "∂f/∂x1 =  $x_{1} \\sqrt{x_{1}^{2} + x_{2}^{2} + x_{3}^{2}}$"
                        ],
                        "text/plain": [
                            "<IPython.core.display.Markdown object>"
                        ]
                    },
                    "metadata": {},
                    "output_type": "display_data"
                },
                {
                    "data": {
                        "text/markdown": [
                            "∂f/∂x2 =  $x_{2} \\sqrt{x_{1}^{2} + x_{2}^{2} + x_{3}^{2}}$"
                        ],
                        "text/plain": [
                            "<IPython.core.display.Markdown object>"
                        ]
                    },
                    "metadata": {},
                    "output_type": "display_data"
                },
                {
                    "data": {
                        "text/markdown": [
                            "∂f/∂x3 =  $x_{3} \\sqrt{x_{1}^{2} + x_{2}^{2} + x_{3}^{2}}$"
                        ],
                        "text/plain": [
                            "<IPython.core.display.Markdown object>"
                        ]
                    },
                    "metadata": {},
                    "output_type": "display_data"
                },
                {
                    "name": "stdout",
                    "output_type": "stream",
                    "text": [
                        "Первый дифференциал:\n"
                    ]
                },
                {
                    "data": {
                        "text/markdown": [
                            "∇f(x) = $h_{1} x_{1} \\sqrt{x_{1}^{2} + x_{2}^{2} + x_{3}^{2}} + h_{2} x_{2} \\sqrt{x_{1}^{2} + x_{2}^{2} + x_{3}^{2}} + h_{3} x_{3} \\sqrt{x_{1}^{2} + x_{2}^{2} + x_{3}^{2}}$"
                        ],
                        "text/plain": [
                            "<IPython.core.display.Markdown object>"
                        ]
                    },
                    "metadata": {},
                    "output_type": "display_data"
                },
                {
                    "name": "stdout",
                    "output_type": "stream",
                    "text": [
                        "Упрощенное выражение для первого дифференциала:\n"
                    ]
                },
                {
                    "data": {
                        "text/markdown": [
                            "∇f(x) = $\\sqrt{x_{1}^{2} + x_{2}^{2} + x_{3}^{2}} \\left(h_{1} x_{1} + h_{2} x_{2} + h_{3} x_{3}\\right)$"
                        ],
                        "text/plain": [
                            "<IPython.core.display.Markdown object>"
                        ]
                    },
                    "metadata": {},
                    "output_type": "display_data"
                }
            ],
            "source": [
                "import numpy as np\n",
                "import sympy as sp\n",
                "from IPython.display import display, Markdown\n",
                "\n",
                "# Определим символьные переменные для компонент вектора x и вектора приращения h\n",
                "n = 3  # Для примера возьмем n = 3\n",
                "x = sp.symbols(f'x1:{n+1}')\n",
                "h = sp.symbols(f'h1:{n+1}')\n",
                "\n",
                "# Евклидова норма вектора x\n",
                "norm_x = sp.sqrt(sum(x_i**2 for x_i in x))\n",
                "\n",
                "# Функция f(x) = (1/3) * ||x||_2^3\n",
                "f = sp.Rational(1, 3) * norm_x**3\n",
                "\n",
                "display(\n",
                "    Markdown(\n",
                "        \"Функция: f(x) =  {}\".format(\n",
                "            sp.latex(f, mode=\"inline\"),\n",
                "        )\n",
                "    )\n",
                ")\n",
                "\n",
                "# Вычисление градиента функции f\n",
                "grad_f = [sp.diff(f, x_i) for x_i in x]\n",
                "\n",
                "print(\"Градиент функции:\")\n",
                "for i, grad_component in enumerate(grad_f):\n",
                "    display(\n",
                "    Markdown(\n",
                "        \"∂f/∂x{} =  {}\".format(i+1,\n",
                "            sp.latex(grad_component, mode=\"inline\"),\n",
                "        )\n",
                "    )\n",
                ")\n",
                "    \n",
                "\n",
                "# Представление градиента в векторной форме\n",
                "grad_f_vector = sp.Matrix(grad_f)\n",
                "\n",
                "# Вычисление первого дифференциала df(x) = ∇f(x) · h\n",
                "h_vector = sp.Matrix(h)\n",
                "df = grad_f_vector.dot(h_vector)\n",
                "\n",
                "print(\"Первый дифференциал:\")\n",
                "display(\n",
                "    Markdown(\n",
                "        \"∇f(x) = {}\".format(\n",
                "            sp.latex(df, mode=\"inline\"),\n",
                "        )\n",
                "    )\n",
                ")\n",
                "\n",
                "# Упрощение выражения для дифференциала\n",
                "df_simplified = sp.simplify(df)\n",
                "\n",
                "print(\"Упрощенное выражение для первого дифференциала:\")\n",
                "display(\n",
                "    Markdown(\n",
                "        \"∇f(x) = {}\".format(\n",
                "            sp.latex(df_simplified, mode=\"inline\"),\n",
                "        )\n",
                "    )\n",
                ")"
            ]
        },
        {
            "cell_type": "markdown",
            "id": "c79a768b",
            "metadata": {},
            "source": [
                "### Проверка результатов\n",
                "\n",
                "Для функции $f(\\mathbf{x}) = \\frac{1}{3} \\|\\mathbf{x}\\|_2^3$:\n",
                "\n",
                "1. Градиент $\\nabla f(\\mathbf{x})$ должен быть равен $\\|\\mathbf{x}\\|_2 \\cdot \\mathbf{x}$\n",
                "2. Первый дифференциал $df(\\mathbf{x})$ должен быть равен $\\|\\mathbf{x}\\|_2 \\cdot \\mathbf{x}^T \\cdot \\mathbf{h}$\n",
                "\n",
                "Проверим это аналитически:"
            ]
        },
        {
            "cell_type": "code",
            "execution_count": 15,
            "id": "2bfdd0a2",
            "metadata": {},
            "outputs": [
                {
                    "name": "stdout",
                    "output_type": "stream",
                    "text": [
                        "Ожидаемый градиент (аналитически):\n"
                    ]
                },
                {
                    "data": {
                        "text/markdown": [
                            "∇f(x) = $\\left[\\begin{smallmatrix}x_{1} \\sqrt{x_{1}^{2} + x_{2}^{2} + x_{3}^{2}}\\\\x_{2} \\sqrt{x_{1}^{2} + x_{2}^{2} + x_{3}^{2}}\\\\x_{3} \\sqrt{x_{1}^{2} + x_{2}^{2} + x_{3}^{2}}\\end{smallmatrix}\\right]$"
                        ],
                        "text/plain": [
                            "<IPython.core.display.Markdown object>"
                        ]
                    },
                    "metadata": {},
                    "output_type": "display_data"
                },
                {
                    "name": "stdout",
                    "output_type": "stream",
                    "text": [
                        "Градиенты совпадают: True\n",
                        "Ожидаемый дифференциал (аналитически):\n"
                    ]
                },
                {
                    "data": {
                        "text/markdown": [
                            "∇(x) = $\\sqrt{x_{1}^{2} + x_{2}^{2} + x_{3}^{2}} \\left(h_{1} x_{1} + h_{2} x_{2} + h_{3} x_{3}\\right)$"
                        ],
                        "text/plain": [
                            "<IPython.core.display.Markdown object>"
                        ]
                    },
                    "metadata": {},
                    "output_type": "display_data"
                },
                {
                    "name": "stdout",
                    "output_type": "stream",
                    "text": [
                        "Дифференциалы совпадают: True\n"
                    ]
                }
            ],
            "source": [
                "# Аналитическая проверка\n",
                "x_vector = sp.Matrix(x)\n",
                "expected_grad = norm_x * x_vector\n",
                "\n",
                "print(\"Ожидаемый градиент (аналитически):\")\n",
                "display(\n",
                "    Markdown(\n",
                "        \"∇f(x) = {}\".format(\n",
                "            sp.latex(expected_grad, mode=\"inline\"),\n",
                "        )\n",
                "    )\n",
                ")\n",
                "\n",
                "# Проверка равенства градиентов\n",
                "is_equal = all(sp.simplify(grad_f[i] - expected_grad[i]) == 0 for i in range(n))\n",
                "print(f\"Градиенты совпадают: {is_equal}\")\n",
                "\n",
                "# Ожидаемый дифференциал\n",
                "expected_df = norm_x * x_vector.dot(h_vector)\n",
                "\n",
                "print(\"Ожидаемый дифференциал (аналитически):\")\n",
                "display(\n",
                "    Markdown(\n",
                "        \"∇(x) = {}\".format(\n",
                "            sp.latex(expected_df, mode=\"inline\"),\n",
                "        )\n",
                "    )\n",
                ")\n",
                "\n",
                "# Проверка равенства дифференциалов\n",
                "is_equal_df = sp.simplify(df - expected_df) == 0\n",
                "print(f\"Дифференциалы совпадают: {is_equal_df}\")"
            ]
        }
    ],
    "metadata": {
        "kernelspec": {
            "display_name": "Python 3",
            "language": "python",
            "name": "python3"
        },
        "language_info": {
            "codemirror_mode": {
                "name": "ipython",
                "version": 3
            },
            "file_extension": ".py",
            "mimetype": "text/x-python",
            "name": "python",
            "nbconvert_exporter": "python",
            "pygments_lexer": "ipython3",
            "version": "3.13.3"
        }
    },
    "nbformat": 4,
    "nbformat_minor": 5
}
